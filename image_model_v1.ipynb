{
 "cells": [
  {
   "cell_type": "code",
   "execution_count": 8,
   "id": "fe4690b8-0dce-411c-a5ad-47d6f9be255c",
   "metadata": {
    "tags": []
   },
   "outputs": [
    {
     "name": "stdout",
     "output_type": "stream",
     "text": [
      "2.12.0-rc1\n"
     ]
    }
   ],
   "source": [
    "import os\n",
    "import random\n",
    "import shutil\n",
    "\n",
    "import matplotlib.pyplot as plt\n",
    "import numpy as np\n",
    "import pandas as pd\n",
    "import tensorflow as tf\n",
    "from sklearn.metrics import roc_auc_score\n",
    "from tensorflow import keras\n",
    "from tensorflow.keras import layers\n",
    "from tensorflow.keras.models import load_model\n",
    "from tensorflow.keras.models import Sequential\n",
    "\n",
    "print(tf.__version__)"
   ]
  },
  {
   "cell_type": "code",
   "execution_count": 2,
   "id": "aee8f4bf-a1c2-4f84-acfc-56d2467f5413",
   "metadata": {
    "tags": []
   },
   "outputs": [],
   "source": [
    "# # do this for keras once\n",
    "\n",
    "# train_images = os.listdir('screens_training')\n",
    "# train_images = [t for t in train_images if '.jpg' in t]\n",
    "\n",
    "# for (name, val) in zip(train_images, y):\n",
    "#     if val == 1:\n",
    "#         shutil.move(f'screens_training\\\\{name}', f'screens_training\\\\True\\\\{name}')\n",
    "#     elif val == 0:\n",
    "#         shutil.move(f'screens_training\\\\{name}', f'screens_training\\\\False\\\\{name}')\n"
   ]
  },
  {
   "cell_type": "code",
   "execution_count": 4,
   "id": "5a5c929c-daad-4066-bed0-5b52ba77c79e",
   "metadata": {
    "tags": []
   },
   "outputs": [
    {
     "name": "stdout",
     "output_type": "stream",
     "text": [
      "Found 14918 files belonging to 2 classes.\n",
      "Using 11935 files for training.\n"
     ]
    }
   ],
   "source": [
    "image_size = (256, 256)\n",
    "train_ds = tf.keras.utils.image_dataset_from_directory(directory='screens_training_balanced_00001_40000', \n",
    "                                                       image_size=image_size,\n",
    "                                                       label_mode='binary',\n",
    "                                                       seed=42,\n",
    "                                                       shuffle=True,\n",
    "                                                       subset='training',\n",
    "                                                       validation_split=0.2)"
   ]
  },
  {
   "cell_type": "code",
   "execution_count": null,
   "id": "f0a79b6b-58e7-4adf-80a2-400445ed49c6",
   "metadata": {
    "tags": []
   },
   "outputs": [],
   "source": []
  },
  {
   "cell_type": "code",
   "execution_count": 5,
   "id": "65345e2a-fcff-4fc7-a3af-768a8cdaca26",
   "metadata": {
    "tags": []
   },
   "outputs": [
    {
     "name": "stdout",
     "output_type": "stream",
     "text": [
      "Found 14918 files belonging to 2 classes.\n",
      "Using 2983 files for validation.\n"
     ]
    }
   ],
   "source": [
    "validation_ds = tf.keras.utils.image_dataset_from_directory(directory='screens_training_balanced_00001_40000', \n",
    "                                                       image_size=image_size,\n",
    "                                                       label_mode='binary',\n",
    "                                                       seed=42,\n",
    "                                                            shuffle=True,\n",
    "                                                       subset='validation',\n",
    "                                                       validation_split=0.2)"
   ]
  },
  {
   "cell_type": "code",
   "execution_count": 6,
   "id": "6bc4df97-a9c2-42e1-9db1-7eba30f22915",
   "metadata": {
    "tags": []
   },
   "outputs": [],
   "source": [
    "# sanity check the sets have no common part\n",
    "for name in validation_ds.file_paths:\n",
    "    if name in train_ds.file_paths:\n",
    "        print('error')"
   ]
  },
  {
   "cell_type": "code",
   "execution_count": 7,
   "id": "0751a788-155a-413a-b3e5-8736cf06a6b2",
   "metadata": {
    "tags": []
   },
   "outputs": [],
   "source": [
    "AUTOTUNE = tf.data.AUTOTUNE\n",
    "\n",
    "train_ds = train_ds.cache().prefetch(buffer_size=AUTOTUNE)\n",
    "validation_ds = validation_ds.cache().prefetch(buffer_size=AUTOTUNE)"
   ]
  },
  {
   "cell_type": "code",
   "execution_count": 20,
   "id": "def411cf-a78b-4595-ac56-fc8c20d6b421",
   "metadata": {
    "tags": []
   },
   "outputs": [],
   "source": [
    "model = Sequential([\n",
    "  layers.Rescaling(1./255, input_shape=(256, 256, 3)),\n",
    "  layers.Conv2D(16, 3, padding='same', activation='relu'),\n",
    "  layers.MaxPooling2D(),\n",
    "  layers.Conv2D(32, 3, padding='same', activation='relu'),\n",
    "  layers.MaxPooling2D(),\n",
    "  layers.Conv2D(64, 3, padding='same', activation='relu'),\n",
    "  layers.MaxPooling2D(),\n",
    "  layers.Flatten(),\n",
    "  layers.Dense(64, activation='relu'),\n",
    "  layers.Dense(1, activation='sigmoid')\n",
    "])"
   ]
  },
  {
   "cell_type": "code",
   "execution_count": 21,
   "id": "b80ef4f6-6bdd-43ee-93e6-2b4d0e0e5dc7",
   "metadata": {
    "tags": []
   },
   "outputs": [],
   "source": [
    "METRICS = [\n",
    "      keras.metrics.TruePositives(name='tp'),\n",
    "      keras.metrics.FalsePositives(name='fp'),\n",
    "      keras.metrics.TrueNegatives(name='tn'),\n",
    "      keras.metrics.FalseNegatives(name='fn'), \n",
    "      keras.metrics.BinaryAccuracy(name='accuracy'),\n",
    "      keras.metrics.Precision(name='precision'),\n",
    "      keras.metrics.Recall(name='recall'),\n",
    "      keras.metrics.AUC(name='auc'),\n",
    "      keras.metrics.AUC(name='prc', curve='PR'), # precision-recall curve\n",
    "]"
   ]
  },
  {
   "cell_type": "code",
   "execution_count": 22,
   "id": "56551623-089e-4489-901c-c76df982dff9",
   "metadata": {
    "tags": []
   },
   "outputs": [],
   "source": [
    "model.compile(optimizer=tf.keras.optimizers.Adam(learning_rate=3e-04),\n",
    "              loss=tf.keras.losses.BinaryCrossentropy(),\n",
    "              metrics=METRICS)"
   ]
  },
  {
   "cell_type": "code",
   "execution_count": 23,
   "id": "b776107e-8499-42cc-8bcc-ae02497d95d6",
   "metadata": {
    "tags": []
   },
   "outputs": [
    {
     "name": "stdout",
     "output_type": "stream",
     "text": [
      "Model: \"sequential_1\"\n",
      "_________________________________________________________________\n",
      " Layer (type)                Output Shape              Param #   \n",
      "=================================================================\n",
      " rescaling_1 (Rescaling)     (None, 256, 256, 3)       0         \n",
      "                                                                 \n",
      " conv2d_3 (Conv2D)           (None, 256, 256, 16)      448       \n",
      "                                                                 \n",
      " max_pooling2d_3 (MaxPooling  (None, 128, 128, 16)     0         \n",
      " 2D)                                                             \n",
      "                                                                 \n",
      " conv2d_4 (Conv2D)           (None, 128, 128, 32)      4640      \n",
      "                                                                 \n",
      " max_pooling2d_4 (MaxPooling  (None, 64, 64, 32)       0         \n",
      " 2D)                                                             \n",
      "                                                                 \n",
      " conv2d_5 (Conv2D)           (None, 64, 64, 64)        18496     \n",
      "                                                                 \n",
      " max_pooling2d_5 (MaxPooling  (None, 32, 32, 64)       0         \n",
      " 2D)                                                             \n",
      "                                                                 \n",
      " flatten_1 (Flatten)         (None, 65536)             0         \n",
      "                                                                 \n",
      " dense_2 (Dense)             (None, 64)                4194368   \n",
      "                                                                 \n",
      " dense_3 (Dense)             (None, 1)                 65        \n",
      "                                                                 \n",
      "=================================================================\n",
      "Total params: 4,218,017\n",
      "Trainable params: 4,218,017\n",
      "Non-trainable params: 0\n",
      "_________________________________________________________________\n"
     ]
    }
   ],
   "source": [
    "model.summary()"
   ]
  },
  {
   "cell_type": "code",
   "execution_count": 25,
   "id": "b7ceed67-b11a-4327-9c52-80519c0f1d1a",
   "metadata": {
    "tags": []
   },
   "outputs": [
    {
     "name": "stdout",
     "output_type": "stream",
     "text": [
      "Epoch 1/20\n",
      "373/373 [==============================] - 324s 868ms/step - loss: 0.6900 - tp: 2315.0000 - fp: 1993.0000 - tn: 3990.0000 - fn: 3637.0000 - accuracy: 0.5283 - precision: 0.5374 - recall: 0.3889 - auc: 0.5441 - prc: 0.5410 - val_loss: 0.6899 - val_tp: 1223.0000 - val_fp: 1146.0000 - val_tn: 330.0000 - val_fn: 284.0000 - val_accuracy: 0.5206 - val_precision: 0.5163 - val_recall: 0.8115 - val_auc: 0.5436 - val_prc: 0.5529\n",
      "Epoch 2/20\n",
      "373/373 [==============================] - 327s 876ms/step - loss: 0.6897 - tp: 2903.0000 - fp: 2497.0000 - tn: 3486.0000 - fn: 3049.0000 - accuracy: 0.5353 - precision: 0.5376 - recall: 0.4877 - auc: 0.5497 - prc: 0.5433 - val_loss: 0.6930 - val_tp: 1507.0000 - val_fp: 1476.0000 - val_tn: 0.0000e+00 - val_fn: 0.0000e+00 - val_accuracy: 0.5052 - val_precision: 0.5052 - val_recall: 1.0000 - val_auc: 0.5253 - val_prc: 0.5380\n",
      "Epoch 3/20\n",
      "373/373 [==============================] - 325s 872ms/step - loss: 0.6921 - tp: 2861.0000 - fp: 2693.0000 - tn: 3290.0000 - fn: 3091.0000 - accuracy: 0.5154 - precision: 0.5151 - recall: 0.4807 - auc: 0.5229 - prc: 0.5258 - val_loss: 0.6917 - val_tp: 551.0000 - val_fp: 504.0000 - val_tn: 972.0000 - val_fn: 956.0000 - val_accuracy: 0.5106 - val_precision: 0.5223 - val_recall: 0.3656 - val_auc: 0.5281 - val_prc: 0.5385\n",
      "Epoch 4/20\n",
      "373/373 [==============================] - 322s 863ms/step - loss: 0.6908 - tp: 2543.0000 - fp: 2245.0000 - tn: 3738.0000 - fn: 3409.0000 - accuracy: 0.5263 - precision: 0.5311 - recall: 0.4273 - auc: 0.5377 - prc: 0.5386 - val_loss: 0.6989 - val_tp: 1507.0000 - val_fp: 1476.0000 - val_tn: 0.0000e+00 - val_fn: 0.0000e+00 - val_accuracy: 0.5052 - val_precision: 0.5052 - val_recall: 1.0000 - val_auc: 0.5429 - val_prc: 0.5522\n",
      "Epoch 5/20\n",
      "373/373 [==============================] - 319s 856ms/step - loss: 0.6897 - tp: 2263.0000 - fp: 1835.0000 - tn: 4148.0000 - fn: 3689.0000 - accuracy: 0.5372 - precision: 0.5522 - recall: 0.3802 - auc: 0.5479 - prc: 0.5429 - val_loss: 0.6887 - val_tp: 542.0000 - val_fp: 431.0000 - val_tn: 1045.0000 - val_fn: 965.0000 - val_accuracy: 0.5320 - val_precision: 0.5570 - val_recall: 0.3597 - val_auc: 0.5506 - val_prc: 0.5560\n",
      "Epoch 6/20\n",
      "373/373 [==============================] - 317s 851ms/step - loss: 0.6883 - tp: 2588.0000 - fp: 2100.0000 - tn: 3883.0000 - fn: 3364.0000 - accuracy: 0.5422 - precision: 0.5520 - recall: 0.4348 - auc: 0.5568 - prc: 0.5493 - val_loss: 0.6947 - val_tp: 1507.0000 - val_fp: 1476.0000 - val_tn: 0.0000e+00 - val_fn: 0.0000e+00 - val_accuracy: 0.5052 - val_precision: 0.5052 - val_recall: 1.0000 - val_auc: 0.5407 - val_prc: 0.5534\n",
      "Epoch 7/20\n",
      "373/373 [==============================] - 324s 867ms/step - loss: 0.6870 - tp: 2688.0000 - fp: 2196.0000 - tn: 3787.0000 - fn: 3264.0000 - accuracy: 0.5425 - precision: 0.5504 - recall: 0.4516 - auc: 0.5636 - prc: 0.5547 - val_loss: 0.6861 - val_tp: 692.0000 - val_fp: 600.0000 - val_tn: 876.0000 - val_fn: 815.0000 - val_accuracy: 0.5256 - val_precision: 0.5356 - val_recall: 0.4592 - val_auc: 0.5591 - val_prc: 0.5733\n",
      "Epoch 8/20\n",
      "373/373 [==============================] - 319s 855ms/step - loss: 0.6817 - tp: 2932.0000 - fp: 2218.0000 - tn: 3765.0000 - fn: 3020.0000 - accuracy: 0.5611 - precision: 0.5693 - recall: 0.4926 - auc: 0.5865 - prc: 0.5784 - val_loss: 0.6825 - val_tp: 885.0000 - val_fp: 709.0000 - val_tn: 767.0000 - val_fn: 622.0000 - val_accuracy: 0.5538 - val_precision: 0.5552 - val_recall: 0.5873 - val_auc: 0.5765 - val_prc: 0.5846\n",
      "Epoch 9/20\n",
      "373/373 [==============================] - 318s 853ms/step - loss: 0.6774 - tp: 2967.0000 - fp: 2156.0000 - tn: 3827.0000 - fn: 2985.0000 - accuracy: 0.5693 - precision: 0.5792 - recall: 0.4985 - auc: 0.5982 - prc: 0.5901 - val_loss: 0.6789 - val_tp: 656.0000 - val_fp: 509.0000 - val_tn: 967.0000 - val_fn: 851.0000 - val_accuracy: 0.5441 - val_precision: 0.5631 - val_recall: 0.4353 - val_auc: 0.5837 - val_prc: 0.5890\n",
      "Epoch 10/20\n",
      "373/373 [==============================] - 322s 864ms/step - loss: 0.6729 - tp: 3118.0000 - fp: 2255.0000 - tn: 3728.0000 - fn: 2834.0000 - accuracy: 0.5736 - precision: 0.5803 - recall: 0.5239 - auc: 0.6093 - prc: 0.5990 - val_loss: 0.6763 - val_tp: 818.0000 - val_fp: 644.0000 - val_tn: 832.0000 - val_fn: 689.0000 - val_accuracy: 0.5531 - val_precision: 0.5595 - val_recall: 0.5428 - val_auc: 0.5879 - val_prc: 0.5961\n",
      "Epoch 11/20\n",
      "373/373 [==============================] - 319s 854ms/step - loss: 0.6679 - tp: 3211.0000 - fp: 2279.0000 - tn: 3704.0000 - fn: 2741.0000 - accuracy: 0.5794 - precision: 0.5849 - recall: 0.5395 - auc: 0.6194 - prc: 0.6069 - val_loss: 0.6750 - val_tp: 884.0000 - val_fp: 700.0000 - val_tn: 776.0000 - val_fn: 623.0000 - val_accuracy: 0.5565 - val_precision: 0.5581 - val_recall: 0.5866 - val_auc: 0.5901 - val_prc: 0.5967\n",
      "Epoch 12/20\n",
      "373/373 [==============================] - 314s 842ms/step - loss: 0.6629 - tp: 3299.0000 - fp: 2241.0000 - tn: 3742.0000 - fn: 2653.0000 - accuracy: 0.5899 - precision: 0.5955 - recall: 0.5543 - auc: 0.6293 - prc: 0.6191 - val_loss: 0.6737 - val_tp: 879.0000 - val_fp: 689.0000 - val_tn: 787.0000 - val_fn: 628.0000 - val_accuracy: 0.5585 - val_precision: 0.5606 - val_recall: 0.5833 - val_auc: 0.5984 - val_prc: 0.5998\n",
      "Epoch 13/20\n",
      "373/373 [==============================] - 318s 852ms/step - loss: 0.6575 - tp: 3376.0000 - fp: 2218.0000 - tn: 3765.0000 - fn: 2576.0000 - accuracy: 0.5983 - precision: 0.6035 - recall: 0.5672 - auc: 0.6398 - prc: 0.6307 - val_loss: 0.6714 - val_tp: 907.0000 - val_fp: 700.0000 - val_tn: 776.0000 - val_fn: 600.0000 - val_accuracy: 0.5642 - val_precision: 0.5644 - val_recall: 0.6019 - val_auc: 0.6042 - val_prc: 0.6040\n",
      "Epoch 14/20\n",
      "373/373 [==============================] - 321s 860ms/step - loss: 0.6505 - tp: 3523.0000 - fp: 2284.0000 - tn: 3699.0000 - fn: 2429.0000 - accuracy: 0.6051 - precision: 0.6067 - recall: 0.5919 - auc: 0.6526 - prc: 0.6427 - val_loss: 0.6712 - val_tp: 841.0000 - val_fp: 640.0000 - val_tn: 836.0000 - val_fn: 666.0000 - val_accuracy: 0.5622 - val_precision: 0.5679 - val_recall: 0.5581 - val_auc: 0.6026 - val_prc: 0.6008\n",
      "Epoch 15/20\n",
      "373/373 [==============================] - 319s 854ms/step - loss: 0.6435 - tp: 3553.0000 - fp: 2250.0000 - tn: 3733.0000 - fn: 2399.0000 - accuracy: 0.6105 - precision: 0.6123 - recall: 0.5969 - auc: 0.6637 - prc: 0.6559 - val_loss: 0.6728 - val_tp: 781.0000 - val_fp: 609.0000 - val_tn: 867.0000 - val_fn: 726.0000 - val_accuracy: 0.5525 - val_precision: 0.5619 - val_recall: 0.5182 - val_auc: 0.5974 - val_prc: 0.6009\n",
      "Epoch 16/20\n",
      "373/373 [==============================] - 319s 854ms/step - loss: 0.6355 - tp: 3668.0000 - fp: 2210.0000 - tn: 3773.0000 - fn: 2284.0000 - accuracy: 0.6235 - precision: 0.6240 - recall: 0.6163 - auc: 0.6784 - prc: 0.6698 - val_loss: 0.6806 - val_tp: 828.0000 - val_fp: 652.0000 - val_tn: 824.0000 - val_fn: 679.0000 - val_accuracy: 0.5538 - val_precision: 0.5595 - val_recall: 0.5494 - val_auc: 0.5998 - val_prc: 0.5989\n",
      "Epoch 17/20\n",
      "373/373 [==============================] - 319s 854ms/step - loss: 0.6284 - tp: 3678.0000 - fp: 2131.0000 - tn: 3852.0000 - fn: 2274.0000 - accuracy: 0.6309 - precision: 0.6332 - recall: 0.6179 - auc: 0.6897 - prc: 0.6813 - val_loss: 0.6728 - val_tp: 845.0000 - val_fp: 629.0000 - val_tn: 847.0000 - val_fn: 662.0000 - val_accuracy: 0.5672 - val_precision: 0.5733 - val_recall: 0.5607 - val_auc: 0.6103 - val_prc: 0.6114\n",
      "Epoch 18/20\n",
      "373/373 [==============================] - 315s 843ms/step - loss: 0.6182 - tp: 3791.0000 - fp: 2125.0000 - tn: 3858.0000 - fn: 2161.0000 - accuracy: 0.6409 - precision: 0.6408 - recall: 0.6369 - auc: 0.7059 - prc: 0.6964 - val_loss: 0.6741 - val_tp: 807.0000 - val_fp: 594.0000 - val_tn: 882.0000 - val_fn: 700.0000 - val_accuracy: 0.5662 - val_precision: 0.5760 - val_recall: 0.5355 - val_auc: 0.6118 - val_prc: 0.6136\n",
      "Epoch 19/20\n",
      "373/373 [==============================] - 319s 854ms/step - loss: 0.6050 - tp: 3871.0000 - fp: 2002.0000 - tn: 3981.0000 - fn: 2081.0000 - accuracy: 0.6579 - precision: 0.6591 - recall: 0.6504 - auc: 0.7243 - prc: 0.7155 - val_loss: 0.6847 - val_tp: 848.0000 - val_fp: 635.0000 - val_tn: 841.0000 - val_fn: 659.0000 - val_accuracy: 0.5662 - val_precision: 0.5718 - val_recall: 0.5627 - val_auc: 0.6109 - val_prc: 0.6132\n",
      "Epoch 20/20\n",
      "373/373 [==============================] - 318s 852ms/step - loss: 0.5886 - tp: 3972.0000 - fp: 1970.0000 - tn: 4013.0000 - fn: 1980.0000 - accuracy: 0.6690 - precision: 0.6685 - recall: 0.6673 - auc: 0.7446 - prc: 0.7391 - val_loss: 0.6983 - val_tp: 809.0000 - val_fp: 597.0000 - val_tn: 879.0000 - val_fn: 698.0000 - val_accuracy: 0.5659 - val_precision: 0.5754 - val_recall: 0.5368 - val_auc: 0.6109 - val_prc: 0.6124\n"
     ]
    },
    {
     "data": {
      "text/plain": [
       "<keras.callbacks.History at 0x2a84159d0d0>"
      ]
     },
     "execution_count": 25,
     "metadata": {},
     "output_type": "execute_result"
    }
   ],
   "source": [
    "model.fit(train_ds, \n",
    "          epochs=20,\n",
    "          validation_data=validation_ds)"
   ]
  },
  {
   "cell_type": "code",
   "execution_count": 26,
   "id": "6794f7ba-8f88-43b9-b218-fb1b679b279b",
   "metadata": {
    "tags": []
   },
   "outputs": [
    {
     "name": "stderr",
     "output_type": "stream",
     "text": [
      "WARNING:absl:Found untraced functions such as _jit_compiled_convolution_op, _jit_compiled_convolution_op, _jit_compiled_convolution_op, _update_step_xla while saving (showing 4 of 4). These functions will not be directly callable after loading.\n"
     ]
    },
    {
     "name": "stdout",
     "output_type": "stream",
     "text": [
      "INFO:tensorflow:Assets written to: model3\\assets\n"
     ]
    },
    {
     "name": "stderr",
     "output_type": "stream",
     "text": [
      "INFO:tensorflow:Assets written to: model3\\assets\n"
     ]
    }
   ],
   "source": [
    "model.save('model3')"
   ]
  },
  {
   "cell_type": "code",
   "execution_count": 27,
   "id": "f379c381-d710-4494-b5c2-c4c16313d667",
   "metadata": {},
   "outputs": [
    {
     "name": "stdout",
     "output_type": "stream",
     "text": [
      "Found 1000 files belonging to 1 classes.\n"
     ]
    }
   ],
   "source": [
    "test_ds = tf.keras.utils.image_dataset_from_directory(directory='screens_10001_11000_unlabeled', \n",
    "                                                       image_size=image_size, \n",
    "                                                      labels=None,\n",
    "                                                     shuffle=False) # ważne"
   ]
  },
  {
   "cell_type": "code",
   "execution_count": 33,
   "id": "67146d57-31c6-43ab-bca0-316f0f79f627",
   "metadata": {
    "tags": []
   },
   "outputs": [
    {
     "name": "stdout",
     "output_type": "stream",
     "text": [
      "Found 10000 files belonging to 1 classes.\n"
     ]
    }
   ],
   "source": [
    "test_ds = tf.keras.utils.image_dataset_from_directory(directory='screens_40001_50000_unlabeled', \n",
    "                                                       image_size=image_size, \n",
    "                                                      labels=None,\n",
    "                                                     shuffle=False) # ważne"
   ]
  },
  {
   "cell_type": "code",
   "execution_count": 34,
   "id": "7ee00bd0-9959-4b12-b85e-039f7ff5939c",
   "metadata": {
    "tags": []
   },
   "outputs": [
    {
     "name": "stdout",
     "output_type": "stream",
     "text": [
      "313/313 [==============================] - 126s 403ms/step\n"
     ]
    }
   ],
   "source": [
    "predictions = model.predict(test_ds)"
   ]
  },
  {
   "cell_type": "code",
   "execution_count": 35,
   "id": "a00d5575-a429-42a6-8552-93341e2d1e45",
   "metadata": {
    "tags": []
   },
   "outputs": [
    {
     "name": "stdout",
     "output_type": "stream",
     "text": [
      "\n",
      "Test score: 0.6225310757823442\n"
     ]
    }
   ],
   "source": [
    "game_states_data_training = pd.read_csv('game_states_data_training.csv')\n",
    "\n",
    "X = game_states_data_training\n",
    "X = X[X['instance_id'] >= 40001]\n",
    "y_test = X['frag'].astype(int).values\n",
    "\n",
    "y_pred = predictions\n",
    "\n",
    "print(f'\\nTest score: {roc_auc_score(y_test, y_pred)}')"
   ]
  },
  {
   "cell_type": "code",
   "execution_count": 36,
   "id": "31dd079b-cbac-4140-9550-f3f9eb256dba",
   "metadata": {
    "tags": []
   },
   "outputs": [],
   "source": [
    "with open('img_pred_40001_50000.txt', 'w') as f:\n",
    "    for y in y_pred:\n",
    "        f.write(f'{y[0]}\\n')"
   ]
  },
  {
   "cell_type": "code",
   "execution_count": null,
   "id": "07003ed2-e28e-432d-a378-0c17dd5507f5",
   "metadata": {},
   "outputs": [],
   "source": [
    "# # RUN IT ON DEMAND ONLU\n",
    "\n",
    "# false_training_images_to_move = os.listdir('screens_training/False')\n",
    "# i = 0\n",
    "# no_files = 7459\n",
    "# while i < no_files:\n",
    "#     file = random.choice(false_training_images_to_move)\n",
    "#     if int(file[:5]) <= 40000:\n",
    "#         shutil.copyfile(f'screens_training/False/{file}', f'screens_training_balanced_00001_40000/False/{file}')\n",
    "#         false_training_images_to_move.remove(file)\n",
    "#         i += 1"
   ]
  },
  {
   "cell_type": "code",
   "execution_count": 32,
   "id": "c221a50d-fdf9-4505-80c0-ca97ea3a2c78",
   "metadata": {
    "tags": []
   },
   "outputs": [],
   "source": [
    "false_training_images_to_move = os.listdir('screens_training/False')\n",
    "for file in false_training_images_to_move:\n",
    "    if int(file[:5]) >= 40000:\n",
    "        shutil.copyfile(f'screens_training/False/{file}', f'screens_40001_50000_unlabeled/{file}')"
   ]
  },
  {
   "cell_type": "code",
   "execution_count": 13,
   "id": "45acb13b-601e-4f7f-9c3a-05940b13b69c",
   "metadata": {},
   "outputs": [
    {
     "name": "stdout",
     "output_type": "stream",
     "text": [
      "Model: \"sequential_1\"\n",
      "_________________________________________________________________\n",
      " Layer (type)                Output Shape              Param #   \n",
      "=================================================================\n",
      " rescaling_1 (Rescaling)     (None, 256, 256, 3)       0         \n",
      "                                                                 \n",
      " conv2d_3 (Conv2D)           (None, 256, 256, 16)      448       \n",
      "                                                                 \n",
      " max_pooling2d_3 (MaxPooling  (None, 128, 128, 16)     0         \n",
      " 2D)                                                             \n",
      "                                                                 \n",
      " conv2d_4 (Conv2D)           (None, 128, 128, 32)      4640      \n",
      "                                                                 \n",
      " max_pooling2d_4 (MaxPooling  (None, 64, 64, 32)       0         \n",
      " 2D)                                                             \n",
      "                                                                 \n",
      " conv2d_5 (Conv2D)           (None, 64, 64, 64)        18496     \n",
      "                                                                 \n",
      " max_pooling2d_5 (MaxPooling  (None, 32, 32, 64)       0         \n",
      " 2D)                                                             \n",
      "                                                                 \n",
      " flatten_1 (Flatten)         (None, 65536)             0         \n",
      "                                                                 \n",
      " dense_2 (Dense)             (None, 64)                4194368   \n",
      "                                                                 \n",
      " dense_3 (Dense)             (None, 1)                 65        \n",
      "                                                                 \n",
      "=================================================================\n",
      "Total params: 4,218,017\n",
      "Trainable params: 4,218,017\n",
      "Non-trainable params: 0\n",
      "_________________________________________________________________\n"
     ]
    }
   ],
   "source": [
    "saved_model = tf.keras.models.load_model('model3')\n",
    "\n",
    "# Check its architecture\n",
    "saved_model.summary()"
   ]
  },
  {
   "cell_type": "code",
   "execution_count": 14,
   "id": "b6e64147-f4a5-448f-b650-b676f12a6554",
   "metadata": {
    "tags": []
   },
   "outputs": [
    {
     "name": "stdout",
     "output_type": "stream",
     "text": [
      "Found 10000 files belonging to 1 classes.\n",
      "313/313 [==============================] - 149s 474ms/step\n"
     ]
    }
   ],
   "source": [
    "# official testset predictions\n",
    "\n",
    "test_ds = tf.keras.utils.image_dataset_from_directory(directory='screens_test', \n",
    "                                                       image_size=image_size, \n",
    "                                                      labels=None,\n",
    "                                                     shuffle=False) # ważne\n",
    "\n",
    "y_pred = saved_model.predict(test_ds)\n",
    "\n",
    "with open('img_screens_test_res.txt', 'w') as f:\n",
    "    for y in y_pred:\n",
    "        f.write(f'{y[0]}\\n')"
   ]
  },
  {
   "cell_type": "code",
   "execution_count": 10,
   "id": "63353f45-e24e-4f6d-bef0-bc62b2d6bd80",
   "metadata": {
    "tags": []
   },
   "outputs": [
    {
     "name": "stdout",
     "output_type": "stream",
     "text": [
      "Found 10000 files belonging to 1 classes.\n",
      "313/313 [==============================] - 129s 409ms/step\n",
      "\n",
      "Test score: 0.6225310757823442\n"
     ]
    }
   ],
   "source": [
    "test_ds = tf.keras.utils.image_dataset_from_directory(directory='screens_40001_50000_unlabeled', \n",
    "                                                       image_size=image_size, \n",
    "                                                      labels=None,\n",
    "                                                     shuffle=False) # ważne\n",
    "\n",
    "predictions = saved_model.predict(test_ds)\n",
    "\n",
    "game_states_data_training = pd.read_csv('game_states_data_training.csv')\n",
    "\n",
    "X = game_states_data_training\n",
    "X = X[X['instance_id'] >= 40001]\n",
    "y_test = X['frag'].astype(int).values\n",
    "\n",
    "y_pred = predictions\n",
    "\n",
    "print(f'\\nTest score: {roc_auc_score(y_test, y_pred)}')"
   ]
  },
  {
   "cell_type": "code",
   "execution_count": 11,
   "id": "4f890035-3575-416b-9a0c-6948e6af1ed7",
   "metadata": {
    "tags": []
   },
   "outputs": [
    {
     "name": "stdout",
     "output_type": "stream",
     "text": [
      "Epoch 1/10\n",
      "373/373 [==============================] - 483s 1s/step - loss: 0.5704 - tp: 4082.0000 - fp: 1821.0000 - tn: 4162.0000 - fn: 1870.0000 - accuracy: 0.6907 - precision: 0.6915 - recall: 0.6858 - auc: 0.7664 - prc: 0.7618 - val_loss: 0.7059 - val_tp: 822.0000 - val_fp: 606.0000 - val_tn: 870.0000 - val_fn: 685.0000 - val_accuracy: 0.5672 - val_precision: 0.5756 - val_recall: 0.5455 - val_auc: 0.6103 - val_prc: 0.6127\n",
      "Epoch 2/10\n",
      "373/373 [==============================] - 367s 982ms/step - loss: 0.5528 - tp: 4170.0000 - fp: 1745.0000 - tn: 4238.0000 - fn: 1782.0000 - accuracy: 0.7045 - precision: 0.7050 - recall: 0.7006 - auc: 0.7856 - prc: 0.7807 - val_loss: 0.7161 - val_tp: 811.0000 - val_fp: 596.0000 - val_tn: 880.0000 - val_fn: 696.0000 - val_accuracy: 0.5669 - val_precision: 0.5764 - val_recall: 0.5382 - val_auc: 0.6098 - val_prc: 0.6075\n",
      "Epoch 3/10\n",
      "373/373 [==============================] - 361s 966ms/step - loss: 0.5403 - tp: 4229.0000 - fp: 1674.0000 - tn: 4309.0000 - fn: 1723.0000 - accuracy: 0.7154 - precision: 0.7164 - recall: 0.7105 - auc: 0.7977 - prc: 0.7947 - val_loss: 0.7271 - val_tp: 801.0000 - val_fp: 591.0000 - val_tn: 885.0000 - val_fn: 706.0000 - val_accuracy: 0.5652 - val_precision: 0.5754 - val_recall: 0.5315 - val_auc: 0.6086 - val_prc: 0.6061\n",
      "Epoch 4/10\n",
      "373/373 [==============================] - 340s 911ms/step - loss: 0.5244 - tp: 4286.0000 - fp: 1562.0000 - tn: 4421.0000 - fn: 1666.0000 - accuracy: 0.7295 - precision: 0.7329 - recall: 0.7201 - auc: 0.8128 - prc: 0.8110 - val_loss: 0.7518 - val_tp: 824.0000 - val_fp: 627.0000 - val_tn: 849.0000 - val_fn: 683.0000 - val_accuracy: 0.5608 - val_precision: 0.5679 - val_recall: 0.5468 - val_auc: 0.6056 - val_prc: 0.5989\n",
      "Epoch 5/10\n",
      "373/373 [==============================] - 361s 967ms/step - loss: 0.5081 - tp: 4352.0000 - fp: 1499.0000 - tn: 4484.0000 - fn: 1600.0000 - accuracy: 0.7403 - precision: 0.7438 - recall: 0.7312 - auc: 0.8266 - prc: 0.8270 - val_loss: 0.7780 - val_tp: 880.0000 - val_fp: 646.0000 - val_tn: 830.0000 - val_fn: 627.0000 - val_accuracy: 0.5732 - val_precision: 0.5767 - val_recall: 0.5839 - val_auc: 0.6037 - val_prc: 0.5959\n",
      "Epoch 6/10\n",
      "373/373 [==============================] - 330s 885ms/step - loss: 0.4921 - tp: 4446.0000 - fp: 1439.0000 - tn: 4544.0000 - fn: 1506.0000 - accuracy: 0.7532 - precision: 0.7555 - recall: 0.7470 - auc: 0.8399 - prc: 0.8393 - val_loss: 0.8030 - val_tp: 863.0000 - val_fp: 659.0000 - val_tn: 817.0000 - val_fn: 644.0000 - val_accuracy: 0.5632 - val_precision: 0.5670 - val_recall: 0.5727 - val_auc: 0.6008 - val_prc: 0.5919\n",
      "Epoch 7/10\n",
      "373/373 [==============================] - 363s 971ms/step - loss: 0.4764 - tp: 4464.0000 - fp: 1375.0000 - tn: 4608.0000 - fn: 1488.0000 - accuracy: 0.7601 - precision: 0.7645 - recall: 0.7500 - auc: 0.8516 - prc: 0.8507 - val_loss: 0.8243 - val_tp: 824.0000 - val_fp: 633.0000 - val_tn: 843.0000 - val_fn: 683.0000 - val_accuracy: 0.5588 - val_precision: 0.5655 - val_recall: 0.5468 - val_auc: 0.5930 - val_prc: 0.5891\n",
      "Epoch 8/10\n",
      "373/373 [==============================] - 365s 978ms/step - loss: 0.4565 - tp: 4561.0000 - fp: 1293.0000 - tn: 4690.0000 - fn: 1391.0000 - accuracy: 0.7751 - precision: 0.7791 - recall: 0.7663 - auc: 0.8654 - prc: 0.8663 - val_loss: 0.8500 - val_tp: 860.0000 - val_fp: 665.0000 - val_tn: 811.0000 - val_fn: 647.0000 - val_accuracy: 0.5602 - val_precision: 0.5639 - val_recall: 0.5707 - val_auc: 0.5943 - val_prc: 0.5865\n",
      "Epoch 9/10\n",
      "373/373 [==============================] - 342s 918ms/step - loss: 0.4363 - tp: 4639.0000 - fp: 1208.0000 - tn: 4775.0000 - fn: 1313.0000 - accuracy: 0.7888 - precision: 0.7934 - recall: 0.7794 - auc: 0.8784 - prc: 0.8796 - val_loss: 0.9176 - val_tp: 871.0000 - val_fp: 719.0000 - val_tn: 757.0000 - val_fn: 636.0000 - val_accuracy: 0.5458 - val_precision: 0.5478 - val_recall: 0.5780 - val_auc: 0.5851 - val_prc: 0.5757\n",
      "Epoch 10/10\n",
      "373/373 [==============================] - 334s 896ms/step - loss: 0.4220 - tp: 4719.0000 - fp: 1166.0000 - tn: 4817.0000 - fn: 1233.0000 - accuracy: 0.7990 - precision: 0.8019 - recall: 0.7928 - auc: 0.8880 - prc: 0.8889 - val_loss: 0.9472 - val_tp: 859.0000 - val_fp: 701.0000 - val_tn: 775.0000 - val_fn: 648.0000 - val_accuracy: 0.5478 - val_precision: 0.5506 - val_recall: 0.5700 - val_auc: 0.5914 - val_prc: 0.5793\n"
     ]
    },
    {
     "data": {
      "text/plain": [
       "<keras.callbacks.History at 0x27464541cd0>"
      ]
     },
     "execution_count": 11,
     "metadata": {},
     "output_type": "execute_result"
    }
   ],
   "source": [
    "saved_model.fit(train_ds, \n",
    "                epochs=10,\n",
    "                validation_data=validation_ds)"
   ]
  },
  {
   "cell_type": "code",
   "execution_count": 12,
   "id": "9f76a907-ba23-46ee-a2a4-60d0d39cd57b",
   "metadata": {
    "tags": []
   },
   "outputs": [
    {
     "name": "stdout",
     "output_type": "stream",
     "text": [
      "Found 10000 files belonging to 1 classes.\n",
      "313/313 [==============================] - 126s 402ms/step\n",
      "\n",
      "Test score: 0.6124977766482134\n"
     ]
    }
   ],
   "source": [
    "test_ds = tf.keras.utils.image_dataset_from_directory(directory='screens_40001_50000_unlabeled', \n",
    "                                                       image_size=image_size, \n",
    "                                                      labels=None,\n",
    "                                                     shuffle=False) # ważne\n",
    "\n",
    "predictions = saved_model.predict(test_ds)\n",
    "\n",
    "game_states_data_training = pd.read_csv('game_states_data_training.csv')\n",
    "\n",
    "X = game_states_data_training\n",
    "X = X[X['instance_id'] >= 40001]\n",
    "y_test = X['frag'].astype(int).values\n",
    "\n",
    "y_pred = predictions\n",
    "\n",
    "print(f'\\nTest score: {roc_auc_score(y_test, y_pred)}')"
   ]
  },
  {
   "cell_type": "code",
   "execution_count": null,
   "id": "2dfb01d2-22d5-48e3-8ec7-d69d19def575",
   "metadata": {},
   "outputs": [],
   "source": []
  }
 ],
 "metadata": {
  "kernelspec": {
   "display_name": "ml",
   "language": "python",
   "name": "ml"
  },
  "language_info": {
   "codemirror_mode": {
    "name": "ipython",
    "version": 3
   },
   "file_extension": ".py",
   "mimetype": "text/x-python",
   "name": "python",
   "nbconvert_exporter": "python",
   "pygments_lexer": "ipython3",
   "version": "3.11.0"
  }
 },
 "nbformat": 4,
 "nbformat_minor": 5
}
