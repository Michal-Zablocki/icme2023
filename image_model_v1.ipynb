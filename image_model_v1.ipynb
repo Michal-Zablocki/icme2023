{
 "cells": [
  {
   "cell_type": "code",
   "execution_count": 29,
   "id": "fe4690b8-0dce-411c-a5ad-47d6f9be255c",
   "metadata": {
    "tags": []
   },
   "outputs": [
    {
     "name": "stdout",
     "output_type": "stream",
     "text": [
      "2.12.0-rc1\n"
     ]
    }
   ],
   "source": [
    "import os\n",
    "import random\n",
    "import shutil\n",
    "\n",
    "import matplotlib.pyplot as plt\n",
    "import numpy as np\n",
    "import pandas as pd\n",
    "import tensorflow as tf\n",
    "from sklearn.metrics import roc_auc_score\n",
    "from tensorflow import keras\n",
    "from tensorflow.keras import layers\n",
    "from tensorflow.keras.models import load_model\n",
    "from tensorflow.keras.models import Sequential\n",
    "\n",
    "print(tf.__version__)"
   ]
  },
  {
   "cell_type": "code",
   "execution_count": 30,
   "id": "aee8f4bf-a1c2-4f84-acfc-56d2467f5413",
   "metadata": {
    "tags": []
   },
   "outputs": [],
   "source": [
    "# initial labeling\n",
    "\n",
    "# train_images = os.listdir('screens_training')\n",
    "# train_images = [t for t in train_images if '.jpg' in t]\n",
    "\n",
    "# for (name, val) in zip(train_images, y):\n",
    "#     if val == 1:\n",
    "#         shutil.move(f'screens_training\\\\{name}', f'screens_training\\\\True\\\\{name}')\n",
    "#     elif val == 0:\n",
    "#         shutil.move(f'screens_training\\\\{name}', f'screens_training\\\\False\\\\{name}')\n"
   ]
  },
  {
   "cell_type": "code",
   "execution_count": 31,
   "id": "5a5c929c-daad-4066-bed0-5b52ba77c79e",
   "metadata": {
    "tags": []
   },
   "outputs": [
    {
     "name": "stdout",
     "output_type": "stream",
     "text": [
      "Found 18818 files belonging to 2 classes.\n",
      "Using 15055 files for training.\n"
     ]
    }
   ],
   "source": [
    "image_size = (256, 256)\n",
    "train_ds = tf.keras.utils.image_dataset_from_directory(directory='screens_training_balanced', \n",
    "                                                       image_size=image_size,\n",
    "                                                       label_mode='binary',\n",
    "                                                       seed=420,\n",
    "                                                       shuffle=True,\n",
    "                                                       subset='training',\n",
    "                                                       validation_split=0.2)"
   ]
  },
  {
   "cell_type": "code",
   "execution_count": 32,
   "id": "65345e2a-fcff-4fc7-a3af-768a8cdaca26",
   "metadata": {
    "tags": []
   },
   "outputs": [
    {
     "name": "stdout",
     "output_type": "stream",
     "text": [
      "Found 18818 files belonging to 2 classes.\n",
      "Using 3763 files for validation.\n"
     ]
    }
   ],
   "source": [
    "validation_ds = tf.keras.utils.image_dataset_from_directory(directory='screens_training_balanced', \n",
    "                                                            image_size=image_size,\n",
    "                                                            label_mode='binary',\n",
    "                                                            seed=420,\n",
    "                                                            shuffle=True,\n",
    "                                                            subset='validation',\n",
    "                                                            validation_split=0.2)"
   ]
  },
  {
   "cell_type": "code",
   "execution_count": 33,
   "id": "6bc4df97-a9c2-42e1-9db1-7eba30f22915",
   "metadata": {
    "tags": []
   },
   "outputs": [],
   "source": [
    "# sanity check the sets have no common part\n",
    "for name in validation_ds.file_paths:\n",
    "    if name in train_ds.file_paths:\n",
    "        print('error')"
   ]
  },
  {
   "cell_type": "code",
   "execution_count": 34,
   "id": "795f1a28-09a8-4943-8513-218738484397",
   "metadata": {
    "tags": []
   },
   "outputs": [],
   "source": [
    "with open('validation_ds.txt', 'w') as f:\n",
    "    for name in validation_ds.file_paths:\n",
    "        f.write(f'{name[-9:-4]}\\n')"
   ]
  },
  {
   "cell_type": "code",
   "execution_count": 35,
   "id": "0751a788-155a-413a-b3e5-8736cf06a6b2",
   "metadata": {
    "tags": []
   },
   "outputs": [],
   "source": [
    "AUTOTUNE = tf.data.AUTOTUNE\n",
    "\n",
    "train_ds = train_ds.cache().prefetch(buffer_size=AUTOTUNE)\n",
    "validation_ds = validation_ds.cache().prefetch(buffer_size=AUTOTUNE)"
   ]
  },
  {
   "cell_type": "code",
   "execution_count": 36,
   "id": "60218065-fb95-4cff-836d-d5df18ecaec9",
   "metadata": {
    "tags": []
   },
   "outputs": [],
   "source": [
    "data_augmentation = keras.Sequential(\n",
    "  [\n",
    "    layers.RandomFlip(\"horizontal\",\n",
    "                      input_shape=(256, 256, 3)),\n",
    "    layers.RandomRotation(0.1),\n",
    "    layers.RandomZoom(0.1),\n",
    "  ]\n",
    ")"
   ]
  },
  {
   "cell_type": "code",
   "execution_count": 37,
   "id": "def411cf-a78b-4595-ac56-fc8c20d6b421",
   "metadata": {
    "tags": []
   },
   "outputs": [],
   "source": [
    "model = Sequential([\n",
    "  data_augmentation,\n",
    "  layers.Rescaling(1./255),\n",
    "  layers.Conv2D(16, 3, padding='same', activation='relu'),\n",
    "  layers.MaxPooling2D(),\n",
    "  layers.Conv2D(32, 3, padding='same', activation='relu'),\n",
    "  layers.MaxPooling2D(),\n",
    "  layers.Conv2D(64, 3, padding='same', activation='relu'),\n",
    "  layers.MaxPooling2D(),\n",
    "  layers.Dropout(0.2),\n",
    "  layers.Flatten(),\n",
    "  layers.Dense(128, activation='relu'),\n",
    "  layers.Dense(1, activation='sigmoid')\n",
    "])"
   ]
  },
  {
   "cell_type": "code",
   "execution_count": 38,
   "id": "b80ef4f6-6bdd-43ee-93e6-2b4d0e0e5dc7",
   "metadata": {
    "tags": []
   },
   "outputs": [],
   "source": [
    "METRICS = [\n",
    "      keras.metrics.TruePositives(name='tp'),\n",
    "      keras.metrics.FalsePositives(name='fp'),\n",
    "      keras.metrics.TrueNegatives(name='tn'),\n",
    "      keras.metrics.FalseNegatives(name='fn'), \n",
    "      keras.metrics.BinaryAccuracy(name='accuracy'),\n",
    "      keras.metrics.Precision(name='precision'),\n",
    "      keras.metrics.Recall(name='recall'),\n",
    "      keras.metrics.AUC(name='auc'),\n",
    "      keras.metrics.AUC(name='prc', curve='PR'), # precision-recall curve\n",
    "]"
   ]
  },
  {
   "cell_type": "code",
   "execution_count": 43,
   "id": "56551623-089e-4489-901c-c76df982dff9",
   "metadata": {
    "tags": []
   },
   "outputs": [],
   "source": [
    "model.compile(optimizer=tf.keras.optimizers.Adam(),\n",
    "              loss=tf.keras.losses.BinaryCrossentropy(),\n",
    "              metrics=METRICS)"
   ]
  },
  {
   "cell_type": "code",
   "execution_count": 40,
   "id": "b776107e-8499-42cc-8bcc-ae02497d95d6",
   "metadata": {
    "tags": []
   },
   "outputs": [
    {
     "name": "stdout",
     "output_type": "stream",
     "text": [
      "Model: \"sequential_4\"\n",
      "_________________________________________________________________\n",
      " Layer (type)                Output Shape              Param #   \n",
      "=================================================================\n",
      " sequential_3 (Sequential)   (None, 256, 256, 3)       0         \n",
      "                                                                 \n",
      " rescaling_2 (Rescaling)     (None, 256, 256, 3)       0         \n",
      "                                                                 \n",
      " conv2d_6 (Conv2D)           (None, 256, 256, 16)      448       \n",
      "                                                                 \n",
      " max_pooling2d_6 (MaxPooling  (None, 128, 128, 16)     0         \n",
      " 2D)                                                             \n",
      "                                                                 \n",
      " conv2d_7 (Conv2D)           (None, 128, 128, 32)      4640      \n",
      "                                                                 \n",
      " max_pooling2d_7 (MaxPooling  (None, 64, 64, 32)       0         \n",
      " 2D)                                                             \n",
      "                                                                 \n",
      " conv2d_8 (Conv2D)           (None, 64, 64, 64)        18496     \n",
      "                                                                 \n",
      " max_pooling2d_8 (MaxPooling  (None, 32, 32, 64)       0         \n",
      " 2D)                                                             \n",
      "                                                                 \n",
      " dropout_2 (Dropout)         (None, 32, 32, 64)        0         \n",
      "                                                                 \n",
      " flatten_2 (Flatten)         (None, 65536)             0         \n",
      "                                                                 \n",
      " dense_3 (Dense)             (None, 128)               8388736   \n",
      "                                                                 \n",
      " dense_4 (Dense)             (None, 1)                 129       \n",
      "                                                                 \n",
      "=================================================================\n",
      "Total params: 8,412,449\n",
      "Trainable params: 8,412,449\n",
      "Non-trainable params: 0\n",
      "_________________________________________________________________\n"
     ]
    }
   ],
   "source": [
    "model.summary()"
   ]
  },
  {
   "cell_type": "code",
   "execution_count": 44,
   "id": "b7ceed67-b11a-4327-9c52-80519c0f1d1a",
   "metadata": {
    "tags": []
   },
   "outputs": [
    {
     "name": "stdout",
     "output_type": "stream",
     "text": [
      "Epoch 1/2\n",
      "118/471 [======>.......................] - ETA: 5:57 - loss: 0.6912 - tp: 1498.0000 - fp: 1248.0000 - tn: 2543.0000 - fn: 2250.0000 - accuracy: 0.5360 - precision: 0.5455 - recall: 0.3997 - auc: 0.5473 - prc: 0.5369"
     ]
    },
    {
     "ename": "KeyboardInterrupt",
     "evalue": "",
     "output_type": "error",
     "traceback": [
      "\u001b[1;31m---------------------------------------------------------------------------\u001b[0m",
      "\u001b[1;31mKeyboardInterrupt\u001b[0m                         Traceback (most recent call last)",
      "Cell \u001b[1;32mIn[44], line 1\u001b[0m\n\u001b[1;32m----> 1\u001b[0m \u001b[43mmodel\u001b[49m\u001b[38;5;241;43m.\u001b[39;49m\u001b[43mfit\u001b[49m\u001b[43m(\u001b[49m\u001b[43mtrain_ds\u001b[49m\u001b[43m,\u001b[49m\u001b[43m \u001b[49m\n\u001b[0;32m      2\u001b[0m \u001b[43m          \u001b[49m\u001b[43mepochs\u001b[49m\u001b[38;5;241;43m=\u001b[39;49m\u001b[38;5;241;43m2\u001b[39;49m\u001b[43m,\u001b[49m\n\u001b[0;32m      3\u001b[0m \u001b[43m          \u001b[49m\u001b[43mvalidation_data\u001b[49m\u001b[38;5;241;43m=\u001b[39;49m\u001b[43mvalidation_ds\u001b[49m\u001b[43m)\u001b[49m\n",
      "File \u001b[1;32m~\\Anaconda3\\envs\\ml\\Lib\\site-packages\\keras\\utils\\traceback_utils.py:65\u001b[0m, in \u001b[0;36mfilter_traceback.<locals>.error_handler\u001b[1;34m(*args, **kwargs)\u001b[0m\n\u001b[0;32m     63\u001b[0m filtered_tb \u001b[38;5;241m=\u001b[39m \u001b[38;5;28;01mNone\u001b[39;00m\n\u001b[0;32m     64\u001b[0m \u001b[38;5;28;01mtry\u001b[39;00m:\n\u001b[1;32m---> 65\u001b[0m     \u001b[38;5;28;01mreturn\u001b[39;00m \u001b[43mfn\u001b[49m\u001b[43m(\u001b[49m\u001b[38;5;241;43m*\u001b[39;49m\u001b[43margs\u001b[49m\u001b[43m,\u001b[49m\u001b[43m \u001b[49m\u001b[38;5;241;43m*\u001b[39;49m\u001b[38;5;241;43m*\u001b[39;49m\u001b[43mkwargs\u001b[49m\u001b[43m)\u001b[49m\n\u001b[0;32m     66\u001b[0m \u001b[38;5;28;01mexcept\u001b[39;00m \u001b[38;5;167;01mException\u001b[39;00m \u001b[38;5;28;01mas\u001b[39;00m e:\n\u001b[0;32m     67\u001b[0m     filtered_tb \u001b[38;5;241m=\u001b[39m _process_traceback_frames(e\u001b[38;5;241m.\u001b[39m__traceback__)\n",
      "File \u001b[1;32m~\\Anaconda3\\envs\\ml\\Lib\\site-packages\\keras\\engine\\training.py:1685\u001b[0m, in \u001b[0;36mModel.fit\u001b[1;34m(self, x, y, batch_size, epochs, verbose, callbacks, validation_split, validation_data, shuffle, class_weight, sample_weight, initial_epoch, steps_per_epoch, validation_steps, validation_batch_size, validation_freq, max_queue_size, workers, use_multiprocessing)\u001b[0m\n\u001b[0;32m   1677\u001b[0m \u001b[38;5;28;01mwith\u001b[39;00m tf\u001b[38;5;241m.\u001b[39mprofiler\u001b[38;5;241m.\u001b[39mexperimental\u001b[38;5;241m.\u001b[39mTrace(\n\u001b[0;32m   1678\u001b[0m     \u001b[38;5;124m\"\u001b[39m\u001b[38;5;124mtrain\u001b[39m\u001b[38;5;124m\"\u001b[39m,\n\u001b[0;32m   1679\u001b[0m     epoch_num\u001b[38;5;241m=\u001b[39mepoch,\n\u001b[1;32m   (...)\u001b[0m\n\u001b[0;32m   1682\u001b[0m     _r\u001b[38;5;241m=\u001b[39m\u001b[38;5;241m1\u001b[39m,\n\u001b[0;32m   1683\u001b[0m ):\n\u001b[0;32m   1684\u001b[0m     callbacks\u001b[38;5;241m.\u001b[39mon_train_batch_begin(step)\n\u001b[1;32m-> 1685\u001b[0m     tmp_logs \u001b[38;5;241m=\u001b[39m \u001b[38;5;28;43mself\u001b[39;49m\u001b[38;5;241;43m.\u001b[39;49m\u001b[43mtrain_function\u001b[49m\u001b[43m(\u001b[49m\u001b[43miterator\u001b[49m\u001b[43m)\u001b[49m\n\u001b[0;32m   1686\u001b[0m     \u001b[38;5;28;01mif\u001b[39;00m data_handler\u001b[38;5;241m.\u001b[39mshould_sync:\n\u001b[0;32m   1687\u001b[0m         context\u001b[38;5;241m.\u001b[39masync_wait()\n",
      "File \u001b[1;32m~\\Anaconda3\\envs\\ml\\Lib\\site-packages\\tensorflow\\python\\util\\traceback_utils.py:150\u001b[0m, in \u001b[0;36mfilter_traceback.<locals>.error_handler\u001b[1;34m(*args, **kwargs)\u001b[0m\n\u001b[0;32m    148\u001b[0m filtered_tb \u001b[38;5;241m=\u001b[39m \u001b[38;5;28;01mNone\u001b[39;00m\n\u001b[0;32m    149\u001b[0m \u001b[38;5;28;01mtry\u001b[39;00m:\n\u001b[1;32m--> 150\u001b[0m   \u001b[38;5;28;01mreturn\u001b[39;00m \u001b[43mfn\u001b[49m\u001b[43m(\u001b[49m\u001b[38;5;241;43m*\u001b[39;49m\u001b[43margs\u001b[49m\u001b[43m,\u001b[49m\u001b[43m \u001b[49m\u001b[38;5;241;43m*\u001b[39;49m\u001b[38;5;241;43m*\u001b[39;49m\u001b[43mkwargs\u001b[49m\u001b[43m)\u001b[49m\n\u001b[0;32m    151\u001b[0m \u001b[38;5;28;01mexcept\u001b[39;00m \u001b[38;5;167;01mException\u001b[39;00m \u001b[38;5;28;01mas\u001b[39;00m e:\n\u001b[0;32m    152\u001b[0m   filtered_tb \u001b[38;5;241m=\u001b[39m _process_traceback_frames(e\u001b[38;5;241m.\u001b[39m__traceback__)\n",
      "File \u001b[1;32m~\\Anaconda3\\envs\\ml\\Lib\\site-packages\\tensorflow\\python\\eager\\polymorphic_function\\polymorphic_function.py:894\u001b[0m, in \u001b[0;36mFunction.__call__\u001b[1;34m(self, *args, **kwds)\u001b[0m\n\u001b[0;32m    891\u001b[0m compiler \u001b[38;5;241m=\u001b[39m \u001b[38;5;124m\"\u001b[39m\u001b[38;5;124mxla\u001b[39m\u001b[38;5;124m\"\u001b[39m \u001b[38;5;28;01mif\u001b[39;00m \u001b[38;5;28mself\u001b[39m\u001b[38;5;241m.\u001b[39m_jit_compile \u001b[38;5;28;01melse\u001b[39;00m \u001b[38;5;124m\"\u001b[39m\u001b[38;5;124mnonXla\u001b[39m\u001b[38;5;124m\"\u001b[39m\n\u001b[0;32m    893\u001b[0m \u001b[38;5;28;01mwith\u001b[39;00m OptionalXlaContext(\u001b[38;5;28mself\u001b[39m\u001b[38;5;241m.\u001b[39m_jit_compile):\n\u001b[1;32m--> 894\u001b[0m   result \u001b[38;5;241m=\u001b[39m \u001b[38;5;28;43mself\u001b[39;49m\u001b[38;5;241;43m.\u001b[39;49m\u001b[43m_call\u001b[49m\u001b[43m(\u001b[49m\u001b[38;5;241;43m*\u001b[39;49m\u001b[43margs\u001b[49m\u001b[43m,\u001b[49m\u001b[43m \u001b[49m\u001b[38;5;241;43m*\u001b[39;49m\u001b[38;5;241;43m*\u001b[39;49m\u001b[43mkwds\u001b[49m\u001b[43m)\u001b[49m\n\u001b[0;32m    896\u001b[0m new_tracing_count \u001b[38;5;241m=\u001b[39m \u001b[38;5;28mself\u001b[39m\u001b[38;5;241m.\u001b[39mexperimental_get_tracing_count()\n\u001b[0;32m    897\u001b[0m without_tracing \u001b[38;5;241m=\u001b[39m (tracing_count \u001b[38;5;241m==\u001b[39m new_tracing_count)\n",
      "File \u001b[1;32m~\\Anaconda3\\envs\\ml\\Lib\\site-packages\\tensorflow\\python\\eager\\polymorphic_function\\polymorphic_function.py:926\u001b[0m, in \u001b[0;36mFunction._call\u001b[1;34m(self, *args, **kwds)\u001b[0m\n\u001b[0;32m    923\u001b[0m   \u001b[38;5;28mself\u001b[39m\u001b[38;5;241m.\u001b[39m_lock\u001b[38;5;241m.\u001b[39mrelease()\n\u001b[0;32m    924\u001b[0m   \u001b[38;5;66;03m# In this case we have created variables on the first call, so we run the\u001b[39;00m\n\u001b[0;32m    925\u001b[0m   \u001b[38;5;66;03m# defunned version which is guaranteed to never create variables.\u001b[39;00m\n\u001b[1;32m--> 926\u001b[0m   \u001b[38;5;28;01mreturn\u001b[39;00m \u001b[38;5;28;43mself\u001b[39;49m\u001b[38;5;241;43m.\u001b[39;49m\u001b[43m_no_variable_creation_fn\u001b[49m\u001b[43m(\u001b[49m\u001b[38;5;241;43m*\u001b[39;49m\u001b[43margs\u001b[49m\u001b[43m,\u001b[49m\u001b[43m \u001b[49m\u001b[38;5;241;43m*\u001b[39;49m\u001b[38;5;241;43m*\u001b[39;49m\u001b[43mkwds\u001b[49m\u001b[43m)\u001b[49m  \u001b[38;5;66;03m# pylint: disable=not-callable\u001b[39;00m\n\u001b[0;32m    927\u001b[0m \u001b[38;5;28;01melif\u001b[39;00m \u001b[38;5;28mself\u001b[39m\u001b[38;5;241m.\u001b[39m_variable_creation_fn \u001b[38;5;129;01mis\u001b[39;00m \u001b[38;5;129;01mnot\u001b[39;00m \u001b[38;5;28;01mNone\u001b[39;00m:\n\u001b[0;32m    928\u001b[0m   \u001b[38;5;66;03m# Release the lock early so that multiple threads can perform the call\u001b[39;00m\n\u001b[0;32m    929\u001b[0m   \u001b[38;5;66;03m# in parallel.\u001b[39;00m\n\u001b[0;32m    930\u001b[0m   \u001b[38;5;28mself\u001b[39m\u001b[38;5;241m.\u001b[39m_lock\u001b[38;5;241m.\u001b[39mrelease()\n",
      "File \u001b[1;32m~\\Anaconda3\\envs\\ml\\Lib\\site-packages\\tensorflow\\python\\eager\\polymorphic_function\\tracing_compiler.py:143\u001b[0m, in \u001b[0;36mTracingCompiler.__call__\u001b[1;34m(self, *args, **kwargs)\u001b[0m\n\u001b[0;32m    140\u001b[0m \u001b[38;5;28;01mwith\u001b[39;00m \u001b[38;5;28mself\u001b[39m\u001b[38;5;241m.\u001b[39m_lock:\n\u001b[0;32m    141\u001b[0m   (concrete_function,\n\u001b[0;32m    142\u001b[0m    filtered_flat_args) \u001b[38;5;241m=\u001b[39m \u001b[38;5;28mself\u001b[39m\u001b[38;5;241m.\u001b[39m_maybe_define_function(args, kwargs)\n\u001b[1;32m--> 143\u001b[0m \u001b[38;5;28;01mreturn\u001b[39;00m \u001b[43mconcrete_function\u001b[49m\u001b[38;5;241;43m.\u001b[39;49m\u001b[43m_call_flat\u001b[49m\u001b[43m(\u001b[49m\n\u001b[0;32m    144\u001b[0m \u001b[43m    \u001b[49m\u001b[43mfiltered_flat_args\u001b[49m\u001b[43m,\u001b[49m\u001b[43m \u001b[49m\u001b[43mcaptured_inputs\u001b[49m\u001b[38;5;241;43m=\u001b[39;49m\u001b[43mconcrete_function\u001b[49m\u001b[38;5;241;43m.\u001b[39;49m\u001b[43mcaptured_inputs\u001b[49m\u001b[43m)\u001b[49m\n",
      "File \u001b[1;32m~\\Anaconda3\\envs\\ml\\Lib\\site-packages\\tensorflow\\python\\eager\\polymorphic_function\\monomorphic_function.py:1757\u001b[0m, in \u001b[0;36mConcreteFunction._call_flat\u001b[1;34m(self, args, captured_inputs, cancellation_manager)\u001b[0m\n\u001b[0;32m   1753\u001b[0m possible_gradient_type \u001b[38;5;241m=\u001b[39m gradients_util\u001b[38;5;241m.\u001b[39mPossibleTapeGradientTypes(args)\n\u001b[0;32m   1754\u001b[0m \u001b[38;5;28;01mif\u001b[39;00m (possible_gradient_type \u001b[38;5;241m==\u001b[39m gradients_util\u001b[38;5;241m.\u001b[39mPOSSIBLE_GRADIENT_TYPES_NONE\n\u001b[0;32m   1755\u001b[0m     \u001b[38;5;129;01mand\u001b[39;00m executing_eagerly):\n\u001b[0;32m   1756\u001b[0m   \u001b[38;5;66;03m# No tape is watching; skip to running the function.\u001b[39;00m\n\u001b[1;32m-> 1757\u001b[0m   \u001b[38;5;28;01mreturn\u001b[39;00m \u001b[38;5;28mself\u001b[39m\u001b[38;5;241m.\u001b[39m_build_call_outputs(\u001b[38;5;28;43mself\u001b[39;49m\u001b[38;5;241;43m.\u001b[39;49m\u001b[43m_inference_function\u001b[49m\u001b[38;5;241;43m.\u001b[39;49m\u001b[43mcall\u001b[49m\u001b[43m(\u001b[49m\n\u001b[0;32m   1758\u001b[0m \u001b[43m      \u001b[49m\u001b[43mctx\u001b[49m\u001b[43m,\u001b[49m\u001b[43m \u001b[49m\u001b[43margs\u001b[49m\u001b[43m,\u001b[49m\u001b[43m \u001b[49m\u001b[43mcancellation_manager\u001b[49m\u001b[38;5;241;43m=\u001b[39;49m\u001b[43mcancellation_manager\u001b[49m\u001b[43m)\u001b[49m)\n\u001b[0;32m   1759\u001b[0m forward_backward \u001b[38;5;241m=\u001b[39m \u001b[38;5;28mself\u001b[39m\u001b[38;5;241m.\u001b[39m_select_forward_and_backward_functions(\n\u001b[0;32m   1760\u001b[0m     args,\n\u001b[0;32m   1761\u001b[0m     possible_gradient_type,\n\u001b[0;32m   1762\u001b[0m     executing_eagerly)\n\u001b[0;32m   1763\u001b[0m forward_function, args_with_tangents \u001b[38;5;241m=\u001b[39m forward_backward\u001b[38;5;241m.\u001b[39mforward()\n",
      "File \u001b[1;32m~\\Anaconda3\\envs\\ml\\Lib\\site-packages\\tensorflow\\python\\eager\\polymorphic_function\\monomorphic_function.py:381\u001b[0m, in \u001b[0;36m_EagerDefinedFunction.call\u001b[1;34m(self, ctx, args, cancellation_manager)\u001b[0m\n\u001b[0;32m    379\u001b[0m \u001b[38;5;28;01mwith\u001b[39;00m _InterpolateFunctionError(\u001b[38;5;28mself\u001b[39m):\n\u001b[0;32m    380\u001b[0m   \u001b[38;5;28;01mif\u001b[39;00m cancellation_manager \u001b[38;5;129;01mis\u001b[39;00m \u001b[38;5;28;01mNone\u001b[39;00m:\n\u001b[1;32m--> 381\u001b[0m     outputs \u001b[38;5;241m=\u001b[39m \u001b[43mexecute\u001b[49m\u001b[38;5;241;43m.\u001b[39;49m\u001b[43mexecute\u001b[49m\u001b[43m(\u001b[49m\n\u001b[0;32m    382\u001b[0m \u001b[43m        \u001b[49m\u001b[38;5;28;43mstr\u001b[39;49m\u001b[43m(\u001b[49m\u001b[38;5;28;43mself\u001b[39;49m\u001b[38;5;241;43m.\u001b[39;49m\u001b[43msignature\u001b[49m\u001b[38;5;241;43m.\u001b[39;49m\u001b[43mname\u001b[49m\u001b[43m)\u001b[49m\u001b[43m,\u001b[49m\n\u001b[0;32m    383\u001b[0m \u001b[43m        \u001b[49m\u001b[43mnum_outputs\u001b[49m\u001b[38;5;241;43m=\u001b[39;49m\u001b[38;5;28;43mself\u001b[39;49m\u001b[38;5;241;43m.\u001b[39;49m\u001b[43m_num_outputs\u001b[49m\u001b[43m,\u001b[49m\n\u001b[0;32m    384\u001b[0m \u001b[43m        \u001b[49m\u001b[43minputs\u001b[49m\u001b[38;5;241;43m=\u001b[39;49m\u001b[43margs\u001b[49m\u001b[43m,\u001b[49m\n\u001b[0;32m    385\u001b[0m \u001b[43m        \u001b[49m\u001b[43mattrs\u001b[49m\u001b[38;5;241;43m=\u001b[39;49m\u001b[43mattrs\u001b[49m\u001b[43m,\u001b[49m\n\u001b[0;32m    386\u001b[0m \u001b[43m        \u001b[49m\u001b[43mctx\u001b[49m\u001b[38;5;241;43m=\u001b[39;49m\u001b[43mctx\u001b[49m\u001b[43m)\u001b[49m\n\u001b[0;32m    387\u001b[0m   \u001b[38;5;28;01melse\u001b[39;00m:\n\u001b[0;32m    388\u001b[0m     outputs \u001b[38;5;241m=\u001b[39m execute\u001b[38;5;241m.\u001b[39mexecute_with_cancellation(\n\u001b[0;32m    389\u001b[0m         \u001b[38;5;28mstr\u001b[39m(\u001b[38;5;28mself\u001b[39m\u001b[38;5;241m.\u001b[39msignature\u001b[38;5;241m.\u001b[39mname),\n\u001b[0;32m    390\u001b[0m         num_outputs\u001b[38;5;241m=\u001b[39m\u001b[38;5;28mself\u001b[39m\u001b[38;5;241m.\u001b[39m_num_outputs,\n\u001b[1;32m   (...)\u001b[0m\n\u001b[0;32m    393\u001b[0m         ctx\u001b[38;5;241m=\u001b[39mctx,\n\u001b[0;32m    394\u001b[0m         cancellation_manager\u001b[38;5;241m=\u001b[39mcancellation_manager)\n",
      "File \u001b[1;32m~\\Anaconda3\\envs\\ml\\Lib\\site-packages\\tensorflow\\python\\eager\\execute.py:52\u001b[0m, in \u001b[0;36mquick_execute\u001b[1;34m(op_name, num_outputs, inputs, attrs, ctx, name)\u001b[0m\n\u001b[0;32m     50\u001b[0m \u001b[38;5;28;01mtry\u001b[39;00m:\n\u001b[0;32m     51\u001b[0m   ctx\u001b[38;5;241m.\u001b[39mensure_initialized()\n\u001b[1;32m---> 52\u001b[0m   tensors \u001b[38;5;241m=\u001b[39m \u001b[43mpywrap_tfe\u001b[49m\u001b[38;5;241;43m.\u001b[39;49m\u001b[43mTFE_Py_Execute\u001b[49m\u001b[43m(\u001b[49m\u001b[43mctx\u001b[49m\u001b[38;5;241;43m.\u001b[39;49m\u001b[43m_handle\u001b[49m\u001b[43m,\u001b[49m\u001b[43m \u001b[49m\u001b[43mdevice_name\u001b[49m\u001b[43m,\u001b[49m\u001b[43m \u001b[49m\u001b[43mop_name\u001b[49m\u001b[43m,\u001b[49m\n\u001b[0;32m     53\u001b[0m \u001b[43m                                      \u001b[49m\u001b[43minputs\u001b[49m\u001b[43m,\u001b[49m\u001b[43m \u001b[49m\u001b[43mattrs\u001b[49m\u001b[43m,\u001b[49m\u001b[43m \u001b[49m\u001b[43mnum_outputs\u001b[49m\u001b[43m)\u001b[49m\n\u001b[0;32m     54\u001b[0m \u001b[38;5;28;01mexcept\u001b[39;00m core\u001b[38;5;241m.\u001b[39m_NotOkStatusException \u001b[38;5;28;01mas\u001b[39;00m e:\n\u001b[0;32m     55\u001b[0m   \u001b[38;5;28;01mif\u001b[39;00m name \u001b[38;5;129;01mis\u001b[39;00m \u001b[38;5;129;01mnot\u001b[39;00m \u001b[38;5;28;01mNone\u001b[39;00m:\n",
      "\u001b[1;31mKeyboardInterrupt\u001b[0m: "
     ]
    }
   ],
   "source": [
    "model.fit(train_ds, \n",
    "          epochs=2,\n",
    "          validation_data=validation_ds)"
   ]
  },
  {
   "cell_type": "code",
   "execution_count": 42,
   "id": "6794f7ba-8f88-43b9-b218-fb1b679b279b",
   "metadata": {
    "tags": []
   },
   "outputs": [
    {
     "name": "stderr",
     "output_type": "stream",
     "text": [
      "WARNING:absl:Found untraced functions such as _jit_compiled_convolution_op, _jit_compiled_convolution_op, _jit_compiled_convolution_op, _update_step_xla while saving (showing 4 of 4). These functions will not be directly callable after loading.\n"
     ]
    },
    {
     "name": "stdout",
     "output_type": "stream",
     "text": [
      "INFO:tensorflow:Assets written to: model4\\assets\n"
     ]
    },
    {
     "name": "stderr",
     "output_type": "stream",
     "text": [
      "INFO:tensorflow:Assets written to: model4\\assets\n"
     ]
    }
   ],
   "source": [
    "model.save('model5')"
   ]
  },
  {
   "cell_type": "code",
   "execution_count": 27,
   "id": "f379c381-d710-4494-b5c2-c4c16313d667",
   "metadata": {},
   "outputs": [
    {
     "name": "stdout",
     "output_type": "stream",
     "text": [
      "Found 1000 files belonging to 1 classes.\n"
     ]
    }
   ],
   "source": [
    "# test_ds = tf.keras.utils.image_dataset_from_directory(directory='screens_10001_11000_unlabeled', \n",
    "#                                                        image_size=image_size, \n",
    "#                                                       labels=None,\n",
    "#                                                      shuffle=False) # ważne"
   ]
  },
  {
   "cell_type": "code",
   "execution_count": 33,
   "id": "67146d57-31c6-43ab-bca0-316f0f79f627",
   "metadata": {
    "tags": []
   },
   "outputs": [
    {
     "name": "stdout",
     "output_type": "stream",
     "text": [
      "Found 10000 files belonging to 1 classes.\n"
     ]
    }
   ],
   "source": [
    "# test_ds = tf.keras.utils.image_dataset_from_directory(directory='screens_40001_50000_unlabeled', \n",
    "#                                                        image_size=image_size, \n",
    "#                                                       labels=None,\n",
    "#                                                      shuffle=False) # ważne"
   ]
  },
  {
   "cell_type": "code",
   "execution_count": 34,
   "id": "7ee00bd0-9959-4b12-b85e-039f7ff5939c",
   "metadata": {
    "tags": []
   },
   "outputs": [
    {
     "name": "stdout",
     "output_type": "stream",
     "text": [
      "313/313 [==============================] - 126s 403ms/step\n"
     ]
    }
   ],
   "source": [
    "# predictions = model.predict(test_ds)"
   ]
  },
  {
   "cell_type": "code",
   "execution_count": 35,
   "id": "a00d5575-a429-42a6-8552-93341e2d1e45",
   "metadata": {
    "tags": []
   },
   "outputs": [
    {
     "name": "stdout",
     "output_type": "stream",
     "text": [
      "\n",
      "Test score: 0.6225310757823442\n"
     ]
    }
   ],
   "source": [
    "# game_states_data_training = pd.read_csv('game_states_data_training.csv')\n",
    "\n",
    "# X = game_states_data_training\n",
    "# X = X[X['instance_id'] >= 40001]\n",
    "# y_test = X['frag'].astype(int).values\n",
    "\n",
    "# y_pred = predictions\n",
    "\n",
    "# print(f'\\nTest score: {roc_auc_score(y_test, y_pred)}')"
   ]
  },
  {
   "cell_type": "code",
   "execution_count": 36,
   "id": "31dd079b-cbac-4140-9550-f3f9eb256dba",
   "metadata": {
    "tags": []
   },
   "outputs": [],
   "source": [
    "# with open('img_pred_40001_50000.txt', 'w') as f:\n",
    "#     for y in y_pred:\n",
    "#         f.write(f'{y[0]}\\n')"
   ]
  },
  {
   "cell_type": "code",
   "execution_count": 3,
   "id": "07003ed2-e28e-432d-a378-0c17dd5507f5",
   "metadata": {},
   "outputs": [],
   "source": [
    "# # RUN IT ON DEMAND ONLY\n",
    "\n",
    "# false_training_images_to_move = os.listdir('screens_training/False')\n",
    "# i = 0\n",
    "# no_files = 9409\n",
    "# while i < no_files:\n",
    "#     file = random.choice(false_training_images_to_move)\n",
    "#     shutil.copyfile(f'screens_training/False/{file}', f'screens_training_balanced/False/{file}')\n",
    "#     false_training_images_to_move.remove(file)\n",
    "#     i += 1"
   ]
  },
  {
   "cell_type": "code",
   "execution_count": 32,
   "id": "c221a50d-fdf9-4505-80c0-ca97ea3a2c78",
   "metadata": {
    "tags": []
   },
   "outputs": [],
   "source": [
    "# false_training_images_to_move = os.listdir('screens_training/False')\n",
    "# for file in false_training_images_to_move:\n",
    "#     if int(file[:5]) >= 40000:\n",
    "#         shutil.copyfile(f'screens_training/False/{file}', f'screens_40001_50000_unlabeled/{file}')"
   ]
  },
  {
   "cell_type": "code",
   "execution_count": 13,
   "id": "45acb13b-601e-4f7f-9c3a-05940b13b69c",
   "metadata": {},
   "outputs": [
    {
     "name": "stdout",
     "output_type": "stream",
     "text": [
      "Model: \"sequential_1\"\n",
      "_________________________________________________________________\n",
      " Layer (type)                Output Shape              Param #   \n",
      "=================================================================\n",
      " rescaling_1 (Rescaling)     (None, 256, 256, 3)       0         \n",
      "                                                                 \n",
      " conv2d_3 (Conv2D)           (None, 256, 256, 16)      448       \n",
      "                                                                 \n",
      " max_pooling2d_3 (MaxPooling  (None, 128, 128, 16)     0         \n",
      " 2D)                                                             \n",
      "                                                                 \n",
      " conv2d_4 (Conv2D)           (None, 128, 128, 32)      4640      \n",
      "                                                                 \n",
      " max_pooling2d_4 (MaxPooling  (None, 64, 64, 32)       0         \n",
      " 2D)                                                             \n",
      "                                                                 \n",
      " conv2d_5 (Conv2D)           (None, 64, 64, 64)        18496     \n",
      "                                                                 \n",
      " max_pooling2d_5 (MaxPooling  (None, 32, 32, 64)       0         \n",
      " 2D)                                                             \n",
      "                                                                 \n",
      " flatten_1 (Flatten)         (None, 65536)             0         \n",
      "                                                                 \n",
      " dense_2 (Dense)             (None, 64)                4194368   \n",
      "                                                                 \n",
      " dense_3 (Dense)             (None, 1)                 65        \n",
      "                                                                 \n",
      "=================================================================\n",
      "Total params: 4,218,017\n",
      "Trainable params: 4,218,017\n",
      "Non-trainable params: 0\n",
      "_________________________________________________________________\n"
     ]
    }
   ],
   "source": [
    "# saved_model = tf.keras.models.load_model('model3')\n",
    "\n",
    "# # Check its architecture\n",
    "# saved_model.summary()"
   ]
  },
  {
   "cell_type": "code",
   "execution_count": 14,
   "id": "b6e64147-f4a5-448f-b650-b676f12a6554",
   "metadata": {
    "tags": []
   },
   "outputs": [
    {
     "name": "stdout",
     "output_type": "stream",
     "text": [
      "Found 10000 files belonging to 1 classes.\n",
      "313/313 [==============================] - 149s 474ms/step\n"
     ]
    }
   ],
   "source": [
    "# # official testset predictions\n",
    "\n",
    "# test_ds = tf.keras.utils.image_dataset_from_directory(directory='screens_test', \n",
    "#                                                        image_size=image_size, \n",
    "#                                                       labels=None,\n",
    "#                                                      shuffle=False) # ważne\n",
    "\n",
    "# y_pred = saved_model.predict(test_ds)\n",
    "\n",
    "# with open('img_screens_test_res.txt', 'w') as f:\n",
    "#     for y in y_pred:\n",
    "#         f.write(f'{y[0]}\\n')"
   ]
  },
  {
   "cell_type": "code",
   "execution_count": 10,
   "id": "63353f45-e24e-4f6d-bef0-bc62b2d6bd80",
   "metadata": {
    "tags": []
   },
   "outputs": [
    {
     "name": "stdout",
     "output_type": "stream",
     "text": [
      "Found 10000 files belonging to 1 classes.\n",
      "313/313 [==============================] - 129s 409ms/step\n",
      "\n",
      "Test score: 0.6225310757823442\n"
     ]
    }
   ],
   "source": [
    "# test_ds = tf.keras.utils.image_dataset_from_directory(directory='screens_40001_50000_unlabeled', \n",
    "#                                                        image_size=image_size, \n",
    "#                                                       labels=None,\n",
    "#                                                      shuffle=False) # ważne\n",
    "\n",
    "# predictions = saved_model.predict(test_ds)\n",
    "\n",
    "# game_states_data_training = pd.read_csv('game_states_data_training.csv')\n",
    "\n",
    "# X = game_states_data_training\n",
    "# X = X[X['instance_id'] >= 40001]\n",
    "# y_test = X['frag'].astype(int).values\n",
    "\n",
    "# y_pred = predictions\n",
    "\n",
    "# print(f'\\nTest score: {roc_auc_score(y_test, y_pred)}')"
   ]
  },
  {
   "cell_type": "code",
   "execution_count": 11,
   "id": "4f890035-3575-416b-9a0c-6948e6af1ed7",
   "metadata": {
    "tags": []
   },
   "outputs": [
    {
     "name": "stdout",
     "output_type": "stream",
     "text": [
      "Epoch 1/10\n",
      "373/373 [==============================] - 483s 1s/step - loss: 0.5704 - tp: 4082.0000 - fp: 1821.0000 - tn: 4162.0000 - fn: 1870.0000 - accuracy: 0.6907 - precision: 0.6915 - recall: 0.6858 - auc: 0.7664 - prc: 0.7618 - val_loss: 0.7059 - val_tp: 822.0000 - val_fp: 606.0000 - val_tn: 870.0000 - val_fn: 685.0000 - val_accuracy: 0.5672 - val_precision: 0.5756 - val_recall: 0.5455 - val_auc: 0.6103 - val_prc: 0.6127\n",
      "Epoch 2/10\n",
      "373/373 [==============================] - 367s 982ms/step - loss: 0.5528 - tp: 4170.0000 - fp: 1745.0000 - tn: 4238.0000 - fn: 1782.0000 - accuracy: 0.7045 - precision: 0.7050 - recall: 0.7006 - auc: 0.7856 - prc: 0.7807 - val_loss: 0.7161 - val_tp: 811.0000 - val_fp: 596.0000 - val_tn: 880.0000 - val_fn: 696.0000 - val_accuracy: 0.5669 - val_precision: 0.5764 - val_recall: 0.5382 - val_auc: 0.6098 - val_prc: 0.6075\n",
      "Epoch 3/10\n",
      "373/373 [==============================] - 361s 966ms/step - loss: 0.5403 - tp: 4229.0000 - fp: 1674.0000 - tn: 4309.0000 - fn: 1723.0000 - accuracy: 0.7154 - precision: 0.7164 - recall: 0.7105 - auc: 0.7977 - prc: 0.7947 - val_loss: 0.7271 - val_tp: 801.0000 - val_fp: 591.0000 - val_tn: 885.0000 - val_fn: 706.0000 - val_accuracy: 0.5652 - val_precision: 0.5754 - val_recall: 0.5315 - val_auc: 0.6086 - val_prc: 0.6061\n",
      "Epoch 4/10\n",
      "373/373 [==============================] - 340s 911ms/step - loss: 0.5244 - tp: 4286.0000 - fp: 1562.0000 - tn: 4421.0000 - fn: 1666.0000 - accuracy: 0.7295 - precision: 0.7329 - recall: 0.7201 - auc: 0.8128 - prc: 0.8110 - val_loss: 0.7518 - val_tp: 824.0000 - val_fp: 627.0000 - val_tn: 849.0000 - val_fn: 683.0000 - val_accuracy: 0.5608 - val_precision: 0.5679 - val_recall: 0.5468 - val_auc: 0.6056 - val_prc: 0.5989\n",
      "Epoch 5/10\n",
      "373/373 [==============================] - 361s 967ms/step - loss: 0.5081 - tp: 4352.0000 - fp: 1499.0000 - tn: 4484.0000 - fn: 1600.0000 - accuracy: 0.7403 - precision: 0.7438 - recall: 0.7312 - auc: 0.8266 - prc: 0.8270 - val_loss: 0.7780 - val_tp: 880.0000 - val_fp: 646.0000 - val_tn: 830.0000 - val_fn: 627.0000 - val_accuracy: 0.5732 - val_precision: 0.5767 - val_recall: 0.5839 - val_auc: 0.6037 - val_prc: 0.5959\n",
      "Epoch 6/10\n",
      "373/373 [==============================] - 330s 885ms/step - loss: 0.4921 - tp: 4446.0000 - fp: 1439.0000 - tn: 4544.0000 - fn: 1506.0000 - accuracy: 0.7532 - precision: 0.7555 - recall: 0.7470 - auc: 0.8399 - prc: 0.8393 - val_loss: 0.8030 - val_tp: 863.0000 - val_fp: 659.0000 - val_tn: 817.0000 - val_fn: 644.0000 - val_accuracy: 0.5632 - val_precision: 0.5670 - val_recall: 0.5727 - val_auc: 0.6008 - val_prc: 0.5919\n",
      "Epoch 7/10\n",
      "373/373 [==============================] - 363s 971ms/step - loss: 0.4764 - tp: 4464.0000 - fp: 1375.0000 - tn: 4608.0000 - fn: 1488.0000 - accuracy: 0.7601 - precision: 0.7645 - recall: 0.7500 - auc: 0.8516 - prc: 0.8507 - val_loss: 0.8243 - val_tp: 824.0000 - val_fp: 633.0000 - val_tn: 843.0000 - val_fn: 683.0000 - val_accuracy: 0.5588 - val_precision: 0.5655 - val_recall: 0.5468 - val_auc: 0.5930 - val_prc: 0.5891\n",
      "Epoch 8/10\n",
      "373/373 [==============================] - 365s 978ms/step - loss: 0.4565 - tp: 4561.0000 - fp: 1293.0000 - tn: 4690.0000 - fn: 1391.0000 - accuracy: 0.7751 - precision: 0.7791 - recall: 0.7663 - auc: 0.8654 - prc: 0.8663 - val_loss: 0.8500 - val_tp: 860.0000 - val_fp: 665.0000 - val_tn: 811.0000 - val_fn: 647.0000 - val_accuracy: 0.5602 - val_precision: 0.5639 - val_recall: 0.5707 - val_auc: 0.5943 - val_prc: 0.5865\n",
      "Epoch 9/10\n",
      "373/373 [==============================] - 342s 918ms/step - loss: 0.4363 - tp: 4639.0000 - fp: 1208.0000 - tn: 4775.0000 - fn: 1313.0000 - accuracy: 0.7888 - precision: 0.7934 - recall: 0.7794 - auc: 0.8784 - prc: 0.8796 - val_loss: 0.9176 - val_tp: 871.0000 - val_fp: 719.0000 - val_tn: 757.0000 - val_fn: 636.0000 - val_accuracy: 0.5458 - val_precision: 0.5478 - val_recall: 0.5780 - val_auc: 0.5851 - val_prc: 0.5757\n",
      "Epoch 10/10\n",
      "373/373 [==============================] - 334s 896ms/step - loss: 0.4220 - tp: 4719.0000 - fp: 1166.0000 - tn: 4817.0000 - fn: 1233.0000 - accuracy: 0.7990 - precision: 0.8019 - recall: 0.7928 - auc: 0.8880 - prc: 0.8889 - val_loss: 0.9472 - val_tp: 859.0000 - val_fp: 701.0000 - val_tn: 775.0000 - val_fn: 648.0000 - val_accuracy: 0.5478 - val_precision: 0.5506 - val_recall: 0.5700 - val_auc: 0.5914 - val_prc: 0.5793\n"
     ]
    },
    {
     "data": {
      "text/plain": [
       "<keras.callbacks.History at 0x27464541cd0>"
      ]
     },
     "execution_count": 11,
     "metadata": {},
     "output_type": "execute_result"
    }
   ],
   "source": [
    "# saved_model.fit(train_ds, \n",
    "#                 epochs=10,\n",
    "#                 validation_data=validation_ds)"
   ]
  },
  {
   "cell_type": "code",
   "execution_count": 12,
   "id": "9f76a907-ba23-46ee-a2a4-60d0d39cd57b",
   "metadata": {
    "tags": []
   },
   "outputs": [
    {
     "name": "stdout",
     "output_type": "stream",
     "text": [
      "Found 10000 files belonging to 1 classes.\n",
      "313/313 [==============================] - 126s 402ms/step\n",
      "\n",
      "Test score: 0.6124977766482134\n"
     ]
    }
   ],
   "source": [
    "# test_ds = tf.keras.utils.image_dataset_from_directory(directory='screens_40001_50000_unlabeled', \n",
    "#                                                        image_size=image_size, \n",
    "#                                                       labels=None,\n",
    "#                                                      shuffle=False) # ważne\n",
    "\n",
    "# predictions = saved_model.predict(test_ds)\n",
    "\n",
    "# game_states_data_training = pd.read_csv('game_states_data_training.csv')\n",
    "\n",
    "# X = game_states_data_training\n",
    "# X = X[X['instance_id'] >= 40001]\n",
    "# y_test = X['frag'].astype(int).values\n",
    "\n",
    "# y_pred = predictions\n",
    "\n",
    "# print(f'\\nTest score: {roc_auc_score(y_test, y_pred)}')"
   ]
  },
  {
   "cell_type": "code",
   "execution_count": null,
   "id": "2dfb01d2-22d5-48e3-8ec7-d69d19def575",
   "metadata": {},
   "outputs": [],
   "source": []
  }
 ],
 "metadata": {
  "kernelspec": {
   "display_name": "ml",
   "language": "python",
   "name": "ml"
  },
  "language_info": {
   "codemirror_mode": {
    "name": "ipython",
    "version": 3
   },
   "file_extension": ".py",
   "mimetype": "text/x-python",
   "name": "python",
   "nbconvert_exporter": "python",
   "pygments_lexer": "ipython3",
   "version": "3.11.0"
  }
 },
 "nbformat": 4,
 "nbformat_minor": 5
}
